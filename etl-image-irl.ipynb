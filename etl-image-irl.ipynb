{
 "cells": [
  {
   "cell_type": "markdown",
   "metadata": {},
   "source": [
    "ETL: Image IRL"
   ]
  },
  {
   "cell_type": "markdown",
   "metadata": {},
   "source": [
    "https://www.kaggle.com/datasets/trainingdatapro/age-detection-human-faces-18-60-years\n",
    "https://www.kaggle.com/datasets/trainingdatapro/gender-detection-and-classification-image-dataset\n",
    "https://www.kaggle.com/datasets/tapakah68/supervisely-filtered-segmentation-person-dataset\n",
    "https://www.kaggle.com/datasets/tapakah68/selfies-id-images-dataset\n",
    "https://www.kaggle.com/datasets/selfishgene/youtube-faces-with-facial-keypoints\n",
    "https://www.kaggle.com/datasets/trainingdatapro/hispanic-kyc-photo-dataset\n",
    "https://www.kaggle.com/datasets/tapakah68/selfies-and-video-dataset-4-000-people\n"
   ]
  },
  {
   "cell_type": "markdown",
   "metadata": {},
   "source": [
    "Selfie dataset:\n",
    "https://www.crcv.ucf.edu/data/Selfie/"
   ]
  },
  {
   "cell_type": "code",
   "execution_count": 4,
   "metadata": {},
   "outputs": [
    {
     "name": "stderr",
     "output_type": "stream",
     "text": [
      "/Users/xoelcouselo/anaconda3/lib/python3.11/site-packages/urllib3/connectionpool.py:1056: InsecureRequestWarning: Unverified HTTPS request is being made to host 'www.crcv.ucf.edu'. Adding certificate verification is strongly advised. See: https://urllib3.readthedocs.io/en/1.26.x/advanced-usage.html#ssl-warnings\n",
      "  warnings.warn(\n"
     ]
    },
    {
     "name": "stdout",
     "output_type": "stream",
     "text": [
      "Descarga, descompresión y movimiento de imágenes completadas.\n"
     ]
    }
   ],
   "source": [
    "import requests\n",
    "import tarfile\n",
    "import os\n",
    "import shutil\n",
    "\n",
    "# URL del archivo\n",
    "url = 'https://www.crcv.ucf.edu/data/Selfie/Selfie-dataset.tar.gz'\n",
    "\n",
    "# Crear la carpeta temporal\n",
    "os.makedirs('tmp', exist_ok=True)\n",
    "\n",
    "# Descargar el archivo en la carpeta temporal\n",
    "tar_path = os.path.join('tmp', 'Selfie-dataset.tar.gz')\n",
    "response = requests.get(url, stream=True, verify=False)\n",
    "\n",
    "with open(tar_path, 'wb') as file:\n",
    "    for chunk in response.iter_content(chunk_size=1024):\n",
    "        if chunk:\n",
    "            file.write(chunk)\n",
    "\n",
    "# Crear la carpeta de destino\n",
    "os.makedirs('img/irl', exist_ok=True)\n",
    "\n",
    "# Descomprimir el archivo en la carpeta temporal\n",
    "with tarfile.open(tar_path, 'r:gz') as tar:\n",
    "    tar.extractall(path='tmp')\n",
    "\n",
    "# Mover todas las imágenes a la carpeta 'img/irl'\n",
    "for root, dirs, files in os.walk('tmp'):\n",
    "    for file in files:\n",
    "        if file.lower().endswith(('png', 'jpg', 'jpeg', 'gif', 'bmp')):\n",
    "            shutil.move(os.path.join(root, file), 'img/irl')\n",
    "\n",
    "# Eliminar la carpeta temporal\n",
    "shutil.rmtree('tmp')\n",
    "\n",
    "print('Descarga, descompresión y movimiento de imágenes completadas.')\n"
   ]
  },
  {
   "cell_type": "code",
   "execution_count": null,
   "metadata": {},
   "outputs": [],
   "source": []
  },
  {
   "cell_type": "code",
   "execution_count": null,
   "metadata": {},
   "outputs": [],
   "source": []
  }
 ],
 "metadata": {
  "kernelspec": {
   "display_name": "base",
   "language": "python",
   "name": "python3"
  },
  "language_info": {
   "codemirror_mode": {
    "name": "ipython",
    "version": 3
   },
   "file_extension": ".py",
   "mimetype": "text/x-python",
   "name": "python",
   "nbconvert_exporter": "python",
   "pygments_lexer": "ipython3",
   "version": "3.11.3"
  }
 },
 "nbformat": 4,
 "nbformat_minor": 2
}
